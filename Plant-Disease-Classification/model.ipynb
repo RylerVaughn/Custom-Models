{
 "cells": [
  {
   "cell_type": "code",
   "execution_count": 10,
   "id": "758d7366",
   "metadata": {},
   "outputs": [],
   "source": [
    "from torchvision import transforms\n",
    "import torch\n",
    "from torch import nn\n",
    "from torch.utils.data import DataLoader, Subset\n",
    "from torchvision.datasets import ImageFolder\n",
    "from tqdm import tqdm"
   ]
  },
  {
   "cell_type": "code",
   "execution_count": 2,
   "id": "aed053ea",
   "metadata": {},
   "outputs": [],
   "source": [
    "transform = transforms.Compose([\n",
    "    transforms.Resize(size=(224, 224)),\n",
    "    transforms.ToTensor()\n",
    "])\n",
    "\n",
    "data = ImageFolder(root=\"/home/ryler/Datasets/CropDisease-Dataset/CropDiseaseData\", transform=transform)\n",
    "perm = torch.randperm(len(data))\n",
    "\n",
    "cutoff_idx = int(len(perm) * 0.8)\n",
    "\n",
    "train_indices = perm[:cutoff_idx]\n",
    "eval_indices = perm[cutoff_idx:]\n",
    "\n",
    "train_subset = Subset(data, train_indices)\n",
    "eval_subset = Subset(data, eval_indices)\n",
    "\n",
    "train_dataloader = DataLoader(train_subset, batch_size=32, shuffle=True)\n",
    "eval_dataloader = DataLoader(eval_subset, batch_size=16, shuffle=True)"
   ]
  },
  {
   "cell_type": "code",
   "execution_count": null,
   "id": "9a6568b0",
   "metadata": {},
   "outputs": [],
   "source": [
    "class CropDiseaseClassifier(nn.Module):\n",
    "    def __init__(self):\n",
    "        super().__init__()\n",
    "\n",
    "        self.res_block1 = ResidualBlock(in_channels=3, out_channels=18)\n",
    "        self.res_block2 = ResidualBlock(in_channels=18, out_channels=36)\n",
    "        self.res_block3 = ResidualBlock(in_channels=36, out_channels=72)\n",
    "        self.ds_block1 = ResidualBlock(in_channels=72, out_channels=142, stride=2)\n",
    "        self.ds_block2 = ResidualBlock(in_channels=142, out_channels=284, stride=2)\n",
    "        self.ds_block3 = ResidualBlock(in_channels=284, out_channels=568, stride=2)\n",
    "\n",
    "        dummy_ex = torch.randn((1, 3, 224, 224))\n",
    "        dummy_ex = self.res_block3(self.res_block2(self.res_block1(dummy_ex)))\n",
    "        dummy_ex = self.ds_block3(self.ds_block2(self.ds_block1(dummy_ex)))\n",
    "        flattened = torch.flatten(dummy_ex, start_dim=1)\n",
    "\n",
    "        self.fc = nn.Linear(in_features=flattened.size(1), out_features=23)\n",
    "\n",
    "    def forward(self, x):\n",
    "        x = self.res_block3(self.res_block2(self.res_block1(x)))\n",
    "        x = self.ds_block3(self.ds_block2(self.ds_block1(x)))\n",
    "        x = torch.flatten(x, start_dim=1)\n",
    "        return self.fc(x)\n",
    "    \n",
    "\n",
    "\n",
    "class ResidualBlock(nn.Module):\n",
    "    def __init__(self, in_channels: int, out_channels: int, stride: int=1):\n",
    "        super().__init__()\n",
    "\n",
    "        self.conv1 = nn.Conv2d(in_channels=in_channels, out_channels=out_channels, kernel_size=3, stride=stride, padding=1)\n",
    "        self.a = nn.ReLU()\n",
    "        self.bn1 = nn.BatchNorm2d(num_features=out_channels)\n",
    "\n",
    "        self.conv2 = nn.Conv2d(in_channels=out_channels, out_channels=out_channels, stride=1, kernel_size=3, padding=1)\n",
    "        self.bn2 = nn.BatchNorm2d(num_features=out_channels)\n",
    "\n",
    "\n",
    "        if stride != 1 or in_channels != out_channels:\n",
    "            self.shortcut = nn.Sequential(\n",
    "                nn.Conv2d(in_channels=in_channels, out_channels=out_channels, kernel_size=1, stride=stride),\n",
    "                nn.BatchNorm2d(num_features=out_channels)\n",
    "            )\n",
    "        else:\n",
    "            self.shortcut = nn.Identity()\n",
    "\n",
    "\n",
    "    def forward(self, x):\n",
    "        identity = self.shortcut(x)\n",
    "        x = self.a(self.bn1(self.conv1(x)))\n",
    "        x = self.bn2(self.conv2(x))\n",
    "        x += identity\n",
    "        return self.a(x)\n"
   ]
  },
  {
   "cell_type": "code",
   "execution_count": 4,
   "id": "5e5c1ea8",
   "metadata": {},
   "outputs": [],
   "source": [
    "model = CropDiseaseClassifier().to(\"cuda\")\n",
    "optimizer = torch.optim.Adam(model.parameters(), lr=0.001, weight_decay=0.01)\n",
    "loss_fn = nn.CrossEntropyLoss()"
   ]
  },
  {
   "cell_type": "code",
   "execution_count": 5,
   "id": "c5dbbad9",
   "metadata": {},
   "outputs": [],
   "source": [
    "torch.cuda.empty_cache()"
   ]
  },
  {
   "cell_type": "code",
   "execution_count": 11,
   "id": "54dfa1b0",
   "metadata": {},
   "outputs": [
    {
     "name": "stdout",
     "output_type": "stream",
     "text": [
      "Epoch 1 in progress...\n",
      "\n",
      "Training...\n"
     ]
    },
    {
     "name": "stderr",
     "output_type": "stream",
     "text": [
      " 17%|█▋        | 153/894 [02:00<09:43,  1.27it/s]\n"
     ]
    },
    {
     "ename": "KeyboardInterrupt",
     "evalue": "",
     "output_type": "error",
     "traceback": [
      "\u001b[31m---------------------------------------------------------------------------\u001b[39m",
      "\u001b[31mKeyboardInterrupt\u001b[39m                         Traceback (most recent call last)",
      "\u001b[36mCell\u001b[39m\u001b[36m \u001b[39m\u001b[32mIn[11]\u001b[39m\u001b[32m, line 24\u001b[39m\n\u001b[32m     21\u001b[39m loss.backward()\n\u001b[32m     22\u001b[39m optimizer.step()\n\u001b[32m---> \u001b[39m\u001b[32m24\u001b[39m train_working_loss += \u001b[43mloss\u001b[49m\u001b[43m.\u001b[49m\u001b[43mitem\u001b[49m\u001b[43m(\u001b[49m\u001b[43m)\u001b[49m\n\u001b[32m     25\u001b[39m train_total += \u001b[38;5;28mlen\u001b[39m(image_batch)\n\u001b[32m     26\u001b[39m predicted = logits.max(\u001b[32m1\u001b[39m)\n",
      "\u001b[31mKeyboardInterrupt\u001b[39m: "
     ]
    }
   ],
   "source": [
    "epochs = 5\n",
    "\n",
    "for epoch in range(1, epochs+1):\n",
    "\n",
    "    print(\"Epoch\", epoch, \"in progress...\")\n",
    "\n",
    "    train_working_loss = 0\n",
    "    train_total = 0\n",
    "    train_correct= 0\n",
    "\n",
    "    print(\"\\nTraining...\")\n",
    "\n",
    "    model.train()\n",
    "    for image_batch, label_batch in tqdm(train_dataloader):\n",
    "        image_batch = image_batch.to(\"cuda\")\n",
    "        label_batch = label_batch.to(\"cuda\")\n",
    "\n",
    "        optimizer.zero_grad()\n",
    "        logits = model(image_batch)\n",
    "        loss = loss_fn(logits, label_batch)\n",
    "        loss.backward()\n",
    "        optimizer.step()\n",
    "\n",
    "        train_working_loss += loss.item()\n",
    "        train_total += len(image_batch)\n",
    "        predicted = logits.max(1)\n",
    "        train_correct += (predicted.indices == label_batch).sum().item()\n",
    "\n",
    "    print(f\"Avg training loss: {train_working_loss / train_total}, Acc: {train_correct / train_total}\")\n",
    "\n",
    "    eval_working_loss = 0\n",
    "    eval_total = 0\n",
    "    eval_correct = 0\n",
    "\n",
    "    print(\"\\nEvalutaing...\")\n",
    "\n",
    "    model.eval()\n",
    "    with torch.no_grad():\n",
    "        for image_batch, label_batch in tqdm(eval_dataloader):\n",
    "            image_batch = image_batch.to(\"cuda\")\n",
    "            label_batch = label_batch.to(\"cuda\")\n",
    "\n",
    "            logits = model(image_batch)\n",
    "            loss = loss_fn(logits, label_batch)\n",
    "\n",
    "            eval_working_loss += loss.item()\n",
    "            eval_total += len(image_batch)\n",
    "            predicted = logits.max(1)\n",
    "            eval_correct += (predicted.indices == label_batch).sum().item()\n",
    "\n",
    "\n",
    "    print(f\"Avg eval loss: {eval_working_loss / eval_total}, Acc: {eval_correct / eval_total}\")\n"
   ]
  },
  {
   "cell_type": "code",
   "execution_count": 4,
   "id": "835b11cf",
   "metadata": {},
   "outputs": [
    {
     "data": {
      "text/plain": [
       "'NVIDIA GeForce RTX 4060'"
      ]
     },
     "execution_count": 4,
     "metadata": {},
     "output_type": "execute_result"
    }
   ],
   "source": [
    "torch.cuda.get_device_name()"
   ]
  },
  {
   "cell_type": "code",
   "execution_count": null,
   "id": "b2332f64",
   "metadata": {},
   "outputs": [],
   "source": []
  }
 ],
 "metadata": {
  "kernelspec": {
   "display_name": ".venv",
   "language": "python",
   "name": "python3"
  },
  "language_info": {
   "codemirror_mode": {
    "name": "ipython",
    "version": 3
   },
   "file_extension": ".py",
   "mimetype": "text/x-python",
   "name": "python",
   "nbconvert_exporter": "python",
   "pygments_lexer": "ipython3",
   "version": "3.12.3"
  }
 },
 "nbformat": 4,
 "nbformat_minor": 5
}
